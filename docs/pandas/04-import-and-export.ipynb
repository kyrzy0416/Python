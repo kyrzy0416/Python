{
 "cells": [
  {
   "cell_type": "code",
   "execution_count": 1,
   "metadata": {
    "collapsed": true
   },
   "outputs": [],
   "source": [
    "import pandas as pd"
   ]
  },
  {
   "cell_type": "code",
   "execution_count": 2,
   "outputs": [],
   "source": [
    "students = pd.read_csv('./student.csv')"
   ],
   "metadata": {
    "collapsed": false,
    "pycharm": {
     "name": "#%%\n"
    }
   }
  },
  {
   "cell_type": "code",
   "execution_count": 3,
   "outputs": [
    {
     "data": {
      "text/plain": "    Student ID  name   age  gender\n0         1100  Kelly   22  Female\n1         1101    Clo   21  Female\n2         1102  Tilly   22  Female\n3         1103   Tony   24    Male\n4         1104  David   20    Male\n5         1105  Catty   22  Female\n6         1106      M    3  Female\n7         1107      N   43    Male\n8         1108      A   13    Male\n9         1109      S   12    Male\n10        1110  David   33    Male\n11        1111     Dw    3  Female\n12        1112      Q   23    Male\n13        1113      W   21  Female",
      "text/html": "<div>\n<style scoped>\n    .dataframe tbody tr th:only-of-type {\n        vertical-align: middle;\n    }\n\n    .dataframe tbody tr th {\n        vertical-align: top;\n    }\n\n    .dataframe thead th {\n        text-align: right;\n    }\n</style>\n<table border=\"1\" class=\"dataframe\">\n  <thead>\n    <tr style=\"text-align: right;\">\n      <th></th>\n      <th>Student ID</th>\n      <th>name</th>\n      <th>age</th>\n      <th>gender</th>\n    </tr>\n  </thead>\n  <tbody>\n    <tr>\n      <th>0</th>\n      <td>1100</td>\n      <td>Kelly</td>\n      <td>22</td>\n      <td>Female</td>\n    </tr>\n    <tr>\n      <th>1</th>\n      <td>1101</td>\n      <td>Clo</td>\n      <td>21</td>\n      <td>Female</td>\n    </tr>\n    <tr>\n      <th>2</th>\n      <td>1102</td>\n      <td>Tilly</td>\n      <td>22</td>\n      <td>Female</td>\n    </tr>\n    <tr>\n      <th>3</th>\n      <td>1103</td>\n      <td>Tony</td>\n      <td>24</td>\n      <td>Male</td>\n    </tr>\n    <tr>\n      <th>4</th>\n      <td>1104</td>\n      <td>David</td>\n      <td>20</td>\n      <td>Male</td>\n    </tr>\n    <tr>\n      <th>5</th>\n      <td>1105</td>\n      <td>Catty</td>\n      <td>22</td>\n      <td>Female</td>\n    </tr>\n    <tr>\n      <th>6</th>\n      <td>1106</td>\n      <td>M</td>\n      <td>3</td>\n      <td>Female</td>\n    </tr>\n    <tr>\n      <th>7</th>\n      <td>1107</td>\n      <td>N</td>\n      <td>43</td>\n      <td>Male</td>\n    </tr>\n    <tr>\n      <th>8</th>\n      <td>1108</td>\n      <td>A</td>\n      <td>13</td>\n      <td>Male</td>\n    </tr>\n    <tr>\n      <th>9</th>\n      <td>1109</td>\n      <td>S</td>\n      <td>12</td>\n      <td>Male</td>\n    </tr>\n    <tr>\n      <th>10</th>\n      <td>1110</td>\n      <td>David</td>\n      <td>33</td>\n      <td>Male</td>\n    </tr>\n    <tr>\n      <th>11</th>\n      <td>1111</td>\n      <td>Dw</td>\n      <td>3</td>\n      <td>Female</td>\n    </tr>\n    <tr>\n      <th>12</th>\n      <td>1112</td>\n      <td>Q</td>\n      <td>23</td>\n      <td>Male</td>\n    </tr>\n    <tr>\n      <th>13</th>\n      <td>1113</td>\n      <td>W</td>\n      <td>21</td>\n      <td>Female</td>\n    </tr>\n  </tbody>\n</table>\n</div>"
     },
     "execution_count": 3,
     "metadata": {},
     "output_type": "execute_result"
    }
   ],
   "source": [
    "students"
   ],
   "metadata": {
    "collapsed": false,
    "pycharm": {
     "name": "#%%\n"
    }
   }
  },
  {
   "cell_type": "code",
   "execution_count": null,
   "outputs": [],
   "source": [
    "# 保存\n",
    "students.to_pickle()"
   ],
   "metadata": {
    "collapsed": false,
    "pycharm": {
     "name": "#%%\n"
    }
   }
  }
 ],
 "metadata": {
  "kernelspec": {
   "display_name": "Python 3",
   "language": "python",
   "name": "python3"
  },
  "language_info": {
   "codemirror_mode": {
    "name": "ipython",
    "version": 2
   },
   "file_extension": ".py",
   "mimetype": "text/x-python",
   "name": "python",
   "nbconvert_exporter": "python",
   "pygments_lexer": "ipython2",
   "version": "2.7.6"
  }
 },
 "nbformat": 4,
 "nbformat_minor": 0
}