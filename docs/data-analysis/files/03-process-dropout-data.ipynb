{
 "cells": [
  {
   "cell_type": "markdown",
   "metadata": {
    "collapsed": true,
    "pycharm": {
     "name": "#%% md\n"
    }
   },
   "source": [
    "## 处理丢失数据"
   ]
  },
  {
   "cell_type": "code",
   "execution_count": 2,
   "outputs": [],
   "source": [
    "import pandas as pd\n",
    "import numpy as np"
   ],
   "metadata": {
    "collapsed": false,
    "pycharm": {
     "name": "#%%\n"
    }
   }
  },
  {
   "cell_type": "code",
   "execution_count": 3,
   "outputs": [],
   "source": [
    "dates = pd.date_range('20130101', periods=6)\n",
    "df = pd.DataFrame(np.arange(24).reshape((6,4)), index=dates, columns=['A', 'B', 'C', 'D'])"
   ],
   "metadata": {
    "collapsed": false,
    "pycharm": {
     "name": "#%%\n"
    }
   }
  },
  {
   "cell_type": "code",
   "execution_count": 10,
   "outputs": [],
   "source": [
    "df.iloc[0, 1] = np.nan\n",
    "df.iloc[1, 2] = np.nan"
   ],
   "metadata": {
    "collapsed": false,
    "pycharm": {
     "name": "#%%\n"
    }
   }
  },
  {
   "cell_type": "code",
   "execution_count": 11,
   "outputs": [
    {
     "data": {
      "text/plain": "             A     B     C   D\n2013-01-01   0   NaN   2.0   3\n2013-01-02   4   5.0   NaN   7\n2013-01-03   8   9.0  10.0  11\n2013-01-04  12  13.0  14.0  15\n2013-01-05  16  17.0  18.0  19\n2013-01-06  20  21.0  22.0  23",
      "text/html": "<div>\n<style scoped>\n    .dataframe tbody tr th:only-of-type {\n        vertical-align: middle;\n    }\n\n    .dataframe tbody tr th {\n        vertical-align: top;\n    }\n\n    .dataframe thead th {\n        text-align: right;\n    }\n</style>\n<table border=\"1\" class=\"dataframe\">\n  <thead>\n    <tr style=\"text-align: right;\">\n      <th></th>\n      <th>A</th>\n      <th>B</th>\n      <th>C</th>\n      <th>D</th>\n    </tr>\n  </thead>\n  <tbody>\n    <tr>\n      <th>2013-01-01</th>\n      <td>0</td>\n      <td>NaN</td>\n      <td>2.0</td>\n      <td>3</td>\n    </tr>\n    <tr>\n      <th>2013-01-02</th>\n      <td>4</td>\n      <td>5.0</td>\n      <td>NaN</td>\n      <td>7</td>\n    </tr>\n    <tr>\n      <th>2013-01-03</th>\n      <td>8</td>\n      <td>9.0</td>\n      <td>10.0</td>\n      <td>11</td>\n    </tr>\n    <tr>\n      <th>2013-01-04</th>\n      <td>12</td>\n      <td>13.0</td>\n      <td>14.0</td>\n      <td>15</td>\n    </tr>\n    <tr>\n      <th>2013-01-05</th>\n      <td>16</td>\n      <td>17.0</td>\n      <td>18.0</td>\n      <td>19</td>\n    </tr>\n    <tr>\n      <th>2013-01-06</th>\n      <td>20</td>\n      <td>21.0</td>\n      <td>22.0</td>\n      <td>23</td>\n    </tr>\n  </tbody>\n</table>\n</div>"
     },
     "execution_count": 11,
     "metadata": {},
     "output_type": "execute_result"
    }
   ],
   "source": [
    "df"
   ],
   "metadata": {
    "collapsed": false,
    "pycharm": {
     "name": "#%%\n"
    }
   }
  },
  {
   "cell_type": "code",
   "execution_count": 12,
   "outputs": [
    {
     "name": "stdout",
     "output_type": "stream",
     "text": [
      "             A     B     C   D\n",
      "2013-01-03   8   9.0  10.0  11\n",
      "2013-01-04  12  13.0  14.0  15\n",
      "2013-01-05  16  17.0  18.0  19\n",
      "2013-01-06  20  21.0  22.0  23\n"
     ]
    }
   ],
   "source": [
    "# 直接删除整行 /   axis = 1 删除整列\n",
    "print(df.dropna(axis=0, how='any')) # how = {'any', 'all'}"
   ],
   "metadata": {
    "collapsed": false,
    "pycharm": {
     "name": "#%%\n"
    }
   }
  },
  {
   "cell_type": "code",
   "execution_count": 13,
   "outputs": [
    {
     "data": {
      "text/plain": "             A     B     C   D\n2013-01-01   0   0.0   2.0   3\n2013-01-02   4   5.0   0.0   7\n2013-01-03   8   9.0  10.0  11\n2013-01-04  12  13.0  14.0  15\n2013-01-05  16  17.0  18.0  19\n2013-01-06  20  21.0  22.0  23",
      "text/html": "<div>\n<style scoped>\n    .dataframe tbody tr th:only-of-type {\n        vertical-align: middle;\n    }\n\n    .dataframe tbody tr th {\n        vertical-align: top;\n    }\n\n    .dataframe thead th {\n        text-align: right;\n    }\n</style>\n<table border=\"1\" class=\"dataframe\">\n  <thead>\n    <tr style=\"text-align: right;\">\n      <th></th>\n      <th>A</th>\n      <th>B</th>\n      <th>C</th>\n      <th>D</th>\n    </tr>\n  </thead>\n  <tbody>\n    <tr>\n      <th>2013-01-01</th>\n      <td>0</td>\n      <td>0.0</td>\n      <td>2.0</td>\n      <td>3</td>\n    </tr>\n    <tr>\n      <th>2013-01-02</th>\n      <td>4</td>\n      <td>5.0</td>\n      <td>0.0</td>\n      <td>7</td>\n    </tr>\n    <tr>\n      <th>2013-01-03</th>\n      <td>8</td>\n      <td>9.0</td>\n      <td>10.0</td>\n      <td>11</td>\n    </tr>\n    <tr>\n      <th>2013-01-04</th>\n      <td>12</td>\n      <td>13.0</td>\n      <td>14.0</td>\n      <td>15</td>\n    </tr>\n    <tr>\n      <th>2013-01-05</th>\n      <td>16</td>\n      <td>17.0</td>\n      <td>18.0</td>\n      <td>19</td>\n    </tr>\n    <tr>\n      <th>2013-01-06</th>\n      <td>20</td>\n      <td>21.0</td>\n      <td>22.0</td>\n      <td>23</td>\n    </tr>\n  </tbody>\n</table>\n</div>"
     },
     "execution_count": 13,
     "metadata": {},
     "output_type": "execute_result"
    }
   ],
   "source": [
    "df = df.fillna(value=0)\n",
    "df"
   ],
   "metadata": {
    "collapsed": false,
    "pycharm": {
     "name": "#%%\n"
    }
   }
  },
  {
   "cell_type": "code",
   "execution_count": 18,
   "outputs": [
    {
     "name": "stdout",
     "output_type": "stream",
     "text": [
      "False\n"
     ]
    }
   ],
   "source": [
    "# 是否丢失数据\n",
    "print(np.any(df.isnull()) == True)"
   ],
   "metadata": {
    "collapsed": false,
    "pycharm": {
     "name": "#%%\n"
    }
   }
  },
  {
   "cell_type": "code",
   "execution_count": null,
   "outputs": [],
   "source": [],
   "metadata": {
    "collapsed": false,
    "pycharm": {
     "name": "#%%\n"
    }
   }
  }
 ],
 "metadata": {
  "kernelspec": {
   "display_name": "Python 3",
   "language": "python",
   "name": "python3"
  },
  "language_info": {
   "codemirror_mode": {
    "name": "ipython",
    "version": 2
   },
   "file_extension": ".py",
   "mimetype": "text/x-python",
   "name": "python",
   "nbconvert_exporter": "python",
   "pygments_lexer": "ipython2",
   "version": "2.7.6"
  }
 },
 "nbformat": 4,
 "nbformat_minor": 0
}