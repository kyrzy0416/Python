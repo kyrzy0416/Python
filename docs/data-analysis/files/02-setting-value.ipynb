{
 "cells": [
  {
   "cell_type": "markdown",
   "metadata": {
    "collapsed": true,
    "pycharm": {
     "name": "#%% md\n"
    }
   },
   "source": [
    "## 设置值"
   ]
  },
  {
   "cell_type": "code",
   "execution_count": 18,
   "outputs": [],
   "source": [
    "import pandas as pd\n",
    "import numpy as np"
   ],
   "metadata": {
    "collapsed": false,
    "pycharm": {
     "name": "#%%\n"
    }
   }
  },
  {
   "cell_type": "code",
   "execution_count": 19,
   "outputs": [],
   "source": [
    "dates = pd.date_range('20130101', periods=6)\n",
    "df = pd.DataFrame(np.arange(24).reshape((6,4)), index=dates, columns=['A', 'B', 'C', 'D'])"
   ],
   "metadata": {
    "collapsed": false,
    "pycharm": {
     "name": "#%%\n"
    }
   }
  },
  {
   "cell_type": "code",
   "execution_count": 20,
   "outputs": [
    {
     "data": {
      "text/plain": "             A     B     C   D\n2013-01-01   0  2222     2   3\n2013-01-02   4     5     6   7\n2013-01-03   8     9  1111  11\n2013-01-04  12    13    14  15\n2013-01-05  16    17    18  19\n2013-01-06  20    21    22  23",
      "text/html": "<div>\n<style scoped>\n    .dataframe tbody tr th:only-of-type {\n        vertical-align: middle;\n    }\n\n    .dataframe tbody tr th {\n        vertical-align: top;\n    }\n\n    .dataframe thead th {\n        text-align: right;\n    }\n</style>\n<table border=\"1\" class=\"dataframe\">\n  <thead>\n    <tr style=\"text-align: right;\">\n      <th></th>\n      <th>A</th>\n      <th>B</th>\n      <th>C</th>\n      <th>D</th>\n    </tr>\n  </thead>\n  <tbody>\n    <tr>\n      <th>2013-01-01</th>\n      <td>0</td>\n      <td>2222</td>\n      <td>2</td>\n      <td>3</td>\n    </tr>\n    <tr>\n      <th>2013-01-02</th>\n      <td>4</td>\n      <td>5</td>\n      <td>6</td>\n      <td>7</td>\n    </tr>\n    <tr>\n      <th>2013-01-03</th>\n      <td>8</td>\n      <td>9</td>\n      <td>1111</td>\n      <td>11</td>\n    </tr>\n    <tr>\n      <th>2013-01-04</th>\n      <td>12</td>\n      <td>13</td>\n      <td>14</td>\n      <td>15</td>\n    </tr>\n    <tr>\n      <th>2013-01-05</th>\n      <td>16</td>\n      <td>17</td>\n      <td>18</td>\n      <td>19</td>\n    </tr>\n    <tr>\n      <th>2013-01-06</th>\n      <td>20</td>\n      <td>21</td>\n      <td>22</td>\n      <td>23</td>\n    </tr>\n  </tbody>\n</table>\n</div>"
     },
     "execution_count": 20,
     "metadata": {},
     "output_type": "execute_result"
    }
   ],
   "source": [
    "df.iloc[2, 2] = 1111\n",
    "df.loc['20130101', 'B'] = 2222\n",
    "df"
   ],
   "metadata": {
    "collapsed": false,
    "pycharm": {
     "name": "#%%\n"
    }
   }
  },
  {
   "cell_type": "code",
   "execution_count": 21,
   "outputs": [
    {
     "data": {
      "text/plain": "             A     B     C   D\n2013-01-01   0  2222     2   3\n2013-01-02   4     5     6   7\n2013-01-03   8     0  1111  11\n2013-01-04  12     0    14  15\n2013-01-05  16     0    18  19\n2013-01-06  20     0    22  23",
      "text/html": "<div>\n<style scoped>\n    .dataframe tbody tr th:only-of-type {\n        vertical-align: middle;\n    }\n\n    .dataframe tbody tr th {\n        vertical-align: top;\n    }\n\n    .dataframe thead th {\n        text-align: right;\n    }\n</style>\n<table border=\"1\" class=\"dataframe\">\n  <thead>\n    <tr style=\"text-align: right;\">\n      <th></th>\n      <th>A</th>\n      <th>B</th>\n      <th>C</th>\n      <th>D</th>\n    </tr>\n  </thead>\n  <tbody>\n    <tr>\n      <th>2013-01-01</th>\n      <td>0</td>\n      <td>2222</td>\n      <td>2</td>\n      <td>3</td>\n    </tr>\n    <tr>\n      <th>2013-01-02</th>\n      <td>4</td>\n      <td>5</td>\n      <td>6</td>\n      <td>7</td>\n    </tr>\n    <tr>\n      <th>2013-01-03</th>\n      <td>8</td>\n      <td>0</td>\n      <td>1111</td>\n      <td>11</td>\n    </tr>\n    <tr>\n      <th>2013-01-04</th>\n      <td>12</td>\n      <td>0</td>\n      <td>14</td>\n      <td>15</td>\n    </tr>\n    <tr>\n      <th>2013-01-05</th>\n      <td>16</td>\n      <td>0</td>\n      <td>18</td>\n      <td>19</td>\n    </tr>\n    <tr>\n      <th>2013-01-06</th>\n      <td>20</td>\n      <td>0</td>\n      <td>22</td>\n      <td>23</td>\n    </tr>\n  </tbody>\n</table>\n</div>"
     },
     "execution_count": 21,
     "metadata": {},
     "output_type": "execute_result"
    }
   ],
   "source": [
    "df.B[df.A>4] = 0\n",
    "df"
   ],
   "metadata": {
    "collapsed": false,
    "pycharm": {
     "name": "#%%\n"
    }
   }
  },
  {
   "cell_type": "code",
   "execution_count": 22,
   "outputs": [
    {
     "data": {
      "text/plain": "             A     B     C   D   E\n2013-01-01   0  2222     2   3 NaN\n2013-01-02   4     5     6   7 NaN\n2013-01-03   8     0  1111  11 NaN\n2013-01-04  12     0    14  15 NaN\n2013-01-05  16     0    18  19 NaN\n2013-01-06  20     0    22  23 NaN",
      "text/html": "<div>\n<style scoped>\n    .dataframe tbody tr th:only-of-type {\n        vertical-align: middle;\n    }\n\n    .dataframe tbody tr th {\n        vertical-align: top;\n    }\n\n    .dataframe thead th {\n        text-align: right;\n    }\n</style>\n<table border=\"1\" class=\"dataframe\">\n  <thead>\n    <tr style=\"text-align: right;\">\n      <th></th>\n      <th>A</th>\n      <th>B</th>\n      <th>C</th>\n      <th>D</th>\n      <th>E</th>\n    </tr>\n  </thead>\n  <tbody>\n    <tr>\n      <th>2013-01-01</th>\n      <td>0</td>\n      <td>2222</td>\n      <td>2</td>\n      <td>3</td>\n      <td>NaN</td>\n    </tr>\n    <tr>\n      <th>2013-01-02</th>\n      <td>4</td>\n      <td>5</td>\n      <td>6</td>\n      <td>7</td>\n      <td>NaN</td>\n    </tr>\n    <tr>\n      <th>2013-01-03</th>\n      <td>8</td>\n      <td>0</td>\n      <td>1111</td>\n      <td>11</td>\n      <td>NaN</td>\n    </tr>\n    <tr>\n      <th>2013-01-04</th>\n      <td>12</td>\n      <td>0</td>\n      <td>14</td>\n      <td>15</td>\n      <td>NaN</td>\n    </tr>\n    <tr>\n      <th>2013-01-05</th>\n      <td>16</td>\n      <td>0</td>\n      <td>18</td>\n      <td>19</td>\n      <td>NaN</td>\n    </tr>\n    <tr>\n      <th>2013-01-06</th>\n      <td>20</td>\n      <td>0</td>\n      <td>22</td>\n      <td>23</td>\n      <td>NaN</td>\n    </tr>\n  </tbody>\n</table>\n</div>"
     },
     "execution_count": 22,
     "metadata": {},
     "output_type": "execute_result"
    }
   ],
   "source": [
    "df['E'] = np.nan\n",
    "df"
   ],
   "metadata": {
    "collapsed": false,
    "pycharm": {
     "name": "#%%\n"
    }
   }
  },
  {
   "cell_type": "code",
   "execution_count": 25,
   "outputs": [
    {
     "data": {
      "text/plain": "             A     B     C   D   E   F\n2013-01-01   0  2222     2   3 NaN NaN\n2013-01-02   4     5     6   7 NaN NaN\n2013-01-03   8     0  1111  11 NaN NaN\n2013-01-04  12     0    14  15 NaN NaN\n2013-01-05  16     0    18  19 NaN NaN\n2013-01-06  20     0    22  23 NaN NaN",
      "text/html": "<div>\n<style scoped>\n    .dataframe tbody tr th:only-of-type {\n        vertical-align: middle;\n    }\n\n    .dataframe tbody tr th {\n        vertical-align: top;\n    }\n\n    .dataframe thead th {\n        text-align: right;\n    }\n</style>\n<table border=\"1\" class=\"dataframe\">\n  <thead>\n    <tr style=\"text-align: right;\">\n      <th></th>\n      <th>A</th>\n      <th>B</th>\n      <th>C</th>\n      <th>D</th>\n      <th>E</th>\n      <th>F</th>\n    </tr>\n  </thead>\n  <tbody>\n    <tr>\n      <th>2013-01-01</th>\n      <td>0</td>\n      <td>2222</td>\n      <td>2</td>\n      <td>3</td>\n      <td>NaN</td>\n      <td>NaN</td>\n    </tr>\n    <tr>\n      <th>2013-01-02</th>\n      <td>4</td>\n      <td>5</td>\n      <td>6</td>\n      <td>7</td>\n      <td>NaN</td>\n      <td>NaN</td>\n    </tr>\n    <tr>\n      <th>2013-01-03</th>\n      <td>8</td>\n      <td>0</td>\n      <td>1111</td>\n      <td>11</td>\n      <td>NaN</td>\n      <td>NaN</td>\n    </tr>\n    <tr>\n      <th>2013-01-04</th>\n      <td>12</td>\n      <td>0</td>\n      <td>14</td>\n      <td>15</td>\n      <td>NaN</td>\n      <td>NaN</td>\n    </tr>\n    <tr>\n      <th>2013-01-05</th>\n      <td>16</td>\n      <td>0</td>\n      <td>18</td>\n      <td>19</td>\n      <td>NaN</td>\n      <td>NaN</td>\n    </tr>\n    <tr>\n      <th>2013-01-06</th>\n      <td>20</td>\n      <td>0</td>\n      <td>22</td>\n      <td>23</td>\n      <td>NaN</td>\n      <td>NaN</td>\n    </tr>\n  </tbody>\n</table>\n</div>"
     },
     "execution_count": 25,
     "metadata": {},
     "output_type": "execute_result"
    }
   ],
   "source": [
    "# 如果没有index=pd.date_range('20130101', periods=6) 就会是NAN\n",
    "df['F'] = pd.Series([1,2,3,4,5,6], index=pd.date_range('20130101', periods=6))\n",
    "df"
   ],
   "metadata": {
    "collapsed": false,
    "pycharm": {
     "name": "#%%\n"
    }
   }
  },
  {
   "cell_type": "code",
   "execution_count": null,
   "outputs": [],
   "source": [],
   "metadata": {
    "collapsed": false,
    "pycharm": {
     "name": "#%%\n"
    }
   }
  }
 ],
 "metadata": {
  "kernelspec": {
   "display_name": "Python 3",
   "language": "python",
   "name": "python3"
  },
  "language_info": {
   "codemirror_mode": {
    "name": "ipython",
    "version": 2
   },
   "file_extension": ".py",
   "mimetype": "text/x-python",
   "name": "python",
   "nbconvert_exporter": "python",
   "pygments_lexer": "ipython2",
   "version": "2.7.6"
  }
 },
 "nbformat": 4,
 "nbformat_minor": 0
}